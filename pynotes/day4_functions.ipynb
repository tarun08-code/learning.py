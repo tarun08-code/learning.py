{
  "nbformat": 4,
  "nbformat_minor": 0,
  "metadata": {
    "colab": {
      "provenance": []
    },
    "kernelspec": {
      "name": "python3",
      "display_name": "Python 3"
    },
    "language_info": {
      "name": "python"
    }
  },
  "cells": [
    {
      "cell_type": "markdown",
      "source": [
        "\n",
        "# Global Keywords & Namespaces (Part 1)\n",
        "\n",
        "## What are Namespaces?\n",
        "- **Namespace** = container where names (identifiers) are mapped to objects.\n",
        "- Types of namespaces:\n",
        "  1. **Local Namespace** – inside a function.\n",
        "  2. **Global Namespace** – at the script/module level.\n",
        "  3. **Built-in Namespace** – Python keywords, built-in functions.\n",
        "\n",
        "## The Global Keyword\n",
        "- Used to modify a global variable inside a function.\n",
        "- Without `global`, assignments create **local variables**.\n",
        "\n",
        "---\n",
        "\n"
      ],
      "metadata": {
        "id": "acfACXzOUjuQ"
      }
    },
    {
      "cell_type": "markdown",
      "source": [
        "# Part 1: Global Keywords & Namespaces\n",
        "\n",
        "## What is a Namespace?\n",
        "- A namespace is a container that holds **names (identifiers)** mapped to **objects (values)**.\n",
        "- Types of namespaces:\n",
        "  1. **Built-in Namespace** → Provided by Python (`print`, `len`, `id`, etc.)\n",
        "  2. **Global Namespace** → Variables defined at the top-level of a script/module\n",
        "  3. **Local Namespace** → Variables inside a function\n",
        "\n",
        "⚡ Namespaces prevent conflicts. Example:\n",
        "- We can define `len = 10`, but Python still keeps its own built-in `len()` function.\n"
      ],
      "metadata": {
        "id": "qfYK4Y2aVgQT"
      }
    },
    {
      "cell_type": "code",
      "source": [
        "# Example 1: Global vs Local\n",
        "x = 10   # Global variable\n",
        "\n",
        "def func():\n",
        "    x = 5   # Local variable\n",
        "    print(\"Inside function:\", x)\n",
        "\n",
        "#func()\n",
        "print(\"Outside function:\", x)\n"
      ],
      "metadata": {
        "colab": {
          "base_uri": "https://localhost:8080/"
        },
        "id": "dvi1x3tlUlj2",
        "outputId": "4d4219e3-4858-42c3-8cf1-5021d81bb9ce"
      },
      "execution_count": null,
      "outputs": [
        {
          "output_type": "stream",
          "name": "stdout",
          "text": [
            "Outside function: 10\n"
          ]
        }
      ]
    },
    {
      "cell_type": "code",
      "source": [
        "x1=78\n",
        "x2=89\n",
        "\n",
        "def add_func():\n",
        "    x1 = 90\n",
        "    x2 = 89\n",
        "    print(sum([x1, x2]))   # put inside a list\n",
        "\n",
        "add_func()\n",
        "print(sum([x1, x2]))"
      ],
      "metadata": {
        "colab": {
          "base_uri": "https://localhost:8080/"
        },
        "id": "1NyeA6vXghgD",
        "outputId": "a431eecd-8365-40bd-b6f1-2349a74c3b89"
      },
      "execution_count": null,
      "outputs": [
        {
          "output_type": "stream",
          "name": "stdout",
          "text": [
            "179\n",
            "167\n"
          ]
        }
      ]
    },
    {
      "cell_type": "code",
      "source": [
        "x1 = 78\n",
        "x2 = 89\n",
        "\n",
        "def add_func():\n",
        "    x1 = 90\n",
        "    x2 = 89\n",
        "    print(sum(x1, x2))\n"
      ],
      "metadata": {
        "id": "riCFXbSyjF-l"
      },
      "execution_count": null,
      "outputs": []
    },
    {
      "cell_type": "code",
      "source": [
        "print(len([1, 2, 3]))  # Built-in len()\n",
        "\n",
        "len = 50               # Our own variable\n",
        "print(\"Custom len:\", len)\n",
        "\n",
        "# Access built-in again\n",
        "import builtins\n",
        "print(\"Built-in len:\", builtins.len([10, 20, 30,60]))\n"
      ],
      "metadata": {
        "colab": {
          "base_uri": "https://localhost:8080/"
        },
        "id": "eIfaB-CuVi5J",
        "outputId": "2038f06f-6df9-4106-9c3c-ca6869c77a53"
      },
      "execution_count": null,
      "outputs": [
        {
          "output_type": "stream",
          "name": "stdout",
          "text": [
            "3\n",
            "Custom len: 50\n",
            "Built-in len: 4\n"
          ]
        }
      ]
    },
    {
      "cell_type": "markdown",
      "source": [
        "## Global Variables\n",
        "- Declared outside any function → visible throughout the file.\n",
        "- But if modified **inside a function**, Python treats it as **local** unless we explicitly use `global`.\n"
      ],
      "metadata": {
        "id": "oaFeuQGtVpk4"
      }
    },
    {
      "cell_type": "code",
      "source": [
        "x = 10\n",
        "\n",
        "def change():\n",
        "    x = 20   # local only\n",
        "    print(\"Inside:\", x)\n",
        "\n",
        "change()\n",
        "print(\"Outside:\", x)\n"
      ],
      "metadata": {
        "colab": {
          "base_uri": "https://localhost:8080/"
        },
        "id": "HQ_OTOO-VtVx",
        "outputId": "86e5ac34-3434-43e7-b7ba-7426e4ec6a35"
      },
      "execution_count": null,
      "outputs": [
        {
          "output_type": "stream",
          "name": "stdout",
          "text": [
            "Inside: 20\n",
            "Outside: 10\n"
          ]
        }
      ]
    },
    {
      "cell_type": "code",
      "source": [
        "x = 10\n",
        "\n",
        "def change():\n",
        "    global x\n",
        "    x = 20\n",
        "    print(\"Inside:\", x)\n",
        "\n",
        "change()\n",
        "print(\"Outside:\", x)\n"
      ],
      "metadata": {
        "colab": {
          "base_uri": "https://localhost:8080/"
        },
        "id": "6bJBAmvtVxFY",
        "outputId": "886aee89-45d0-4d2f-ebd0-fe3dc604d449"
      },
      "execution_count": null,
      "outputs": [
        {
          "output_type": "stream",
          "name": "stdout",
          "text": [
            "Inside: 20\n",
            "Outside: 20\n"
          ]
        }
      ]
    },
    {
      "cell_type": "markdown",
      "source": [
        "### Exercise A\n",
        "Create a variable `balance = 1000`.\n",
        "1. Write `deposit(amount)` → adds to balance.\n",
        "2. Write `withdraw(amount)` → subtracts if enough balance.\n",
        "3. Print balance after each call.\n"
      ],
      "metadata": {
        "id": "gSRb8qN2V4H6"
      }
    },
    {
      "cell_type": "code",
      "source": [
        "balance = 1000\n",
        "def deposit(amount):\n",
        "    global balance\n",
        "    #balance += amount#balance+amount\n",
        "    balance=balance+amount\n",
        "    print(\"Deposited:\", amount, \"Balance:\", balance)\n",
        "def withdraw(amount):\n",
        "    global balance\n",
        "    if amount <= balance:\n",
        "        balance=balance-amount\n",
        "        #balance -= amount\n",
        "        print(\"Withdrawn:\", amount, \"Balance:\", balance)\n",
        "    else:\n",
        "        print(\"Insufficient balance!\")\n",
        "deposit(500)\n",
        "#withdraw(200)\n",
        "withdraw(2000)"
      ],
      "metadata": {
        "colab": {
          "base_uri": "https://localhost:8080/"
        },
        "id": "4shtlK9zV60Z",
        "outputId": "d7f0dac9-2f8f-40d1-a8eb-212749ae33f0"
      },
      "execution_count": null,
      "outputs": [
        {
          "output_type": "stream",
          "name": "stdout",
          "text": [
            "Deposited: 500 Balance: 1500\n",
            "Insufficient balance!\n"
          ]
        }
      ]
    },
    {
      "cell_type": "code",
      "source": [
        "#Code Example with global\n",
        "x = 10\n",
        "\n",
        "def func():\n",
        "    global x\n",
        "    x = 5\n",
        "    print(\"Inside function:\", x)\n",
        "\n",
        "func()\n",
        "print(\"Outside function:\", x)\n"
      ],
      "metadata": {
        "colab": {
          "base_uri": "https://localhost:8080/"
        },
        "id": "SLWFoLHpUo0b",
        "outputId": "3291e699-6664-4e84-a6d0-eb3eb8f93e37"
      },
      "execution_count": null,
      "outputs": [
        {
          "output_type": "stream",
          "name": "stdout",
          "text": [
            "Inside function: 5\n",
            "Outside function: 5\n"
          ]
        }
      ]
    },
    {
      "cell_type": "markdown",
      "source": [
        "## Why Not Use Too Many Globals?\n",
        "- Makes debugging harder.\n",
        "- Better practice → return values instead of modifying global variables.\n"
      ],
      "metadata": {
        "id": "d1YxC9SCWCq5"
      }
    },
    {
      "cell_type": "code",
      "source": [
        "# Bad\n",
        "count = 0\n",
        "def bad_increment():\n",
        "    global count\n",
        "    count += 1\n",
        "\n",
        "bad_increment()\n",
        "print(\"Count:\", count)\n",
        "\n",
        "# Good\n",
        "def good_increment(c):\n",
        "    return c + 1\n",
        "\n",
        "count = 0\n",
        "count = good_increment(count)\n",
        "print(\"Count:\", count)\n"
      ],
      "metadata": {
        "colab": {
          "base_uri": "https://localhost:8080/"
        },
        "id": "VQp9s3o2WFxB",
        "outputId": "d3c29dc2-ed1b-4664-e062-17a777c586ce"
      },
      "execution_count": null,
      "outputs": [
        {
          "output_type": "stream",
          "name": "stdout",
          "text": [
            "Count: 1\n",
            "Count: 1\n"
          ]
        }
      ]
    },
    {
      "cell_type": "code",
      "source": [
        "# Puzzle 1\n",
        "x = 5\n",
        "def test():\n",
        "    global x\n",
        "    x = 10\n",
        "    print(\"Inside:\", x)\n",
        "\n",
        "test()\n",
        "print(\"Outside:\", x)\n"
      ],
      "metadata": {
        "colab": {
          "base_uri": "https://localhost:8080/"
        },
        "id": "bxXDkpK2WL_h",
        "outputId": "a470edeb-949f-4285-bdd2-7c7456b1e6e1"
      },
      "execution_count": null,
      "outputs": [
        {
          "output_type": "stream",
          "name": "stdout",
          "text": [
            "Inside: 10\n",
            "Outside: 10\n"
          ]
        }
      ]
    },
    {
      "cell_type": "code",
      "source": [
        "# Puzzle 2\n",
        "x = 5\n",
        "def test():\n",
        "    print(x)  # Error: local variable accessed before assignment\n",
        "    x = 10\n",
        "    print(x)\n",
        "\n",
        "test()"
      ],
      "metadata": {
        "colab": {
          "base_uri": "https://localhost:8080/",
          "height": 306
        },
        "id": "HHJQKtWiWQjf",
        "outputId": "962f924e-dea0-4e36-9ffe-fc072d1f3d56"
      },
      "execution_count": null,
      "outputs": [
        {
          "output_type": "error",
          "ename": "UnboundLocalError",
          "evalue": "cannot access local variable 'x' where it is not associated with a value",
          "traceback": [
            "\u001b[0;31m---------------------------------------------------------------------------\u001b[0m",
            "\u001b[0;31mUnboundLocalError\u001b[0m                         Traceback (most recent call last)",
            "\u001b[0;32m/tmp/ipython-input-3390323334.py\u001b[0m in \u001b[0;36m<cell line: 0>\u001b[0;34m()\u001b[0m\n\u001b[1;32m      6\u001b[0m     \u001b[0mprint\u001b[0m\u001b[0;34m(\u001b[0m\u001b[0mx\u001b[0m\u001b[0;34m)\u001b[0m\u001b[0;34m\u001b[0m\u001b[0;34m\u001b[0m\u001b[0m\n\u001b[1;32m      7\u001b[0m \u001b[0;34m\u001b[0m\u001b[0m\n\u001b[0;32m----> 8\u001b[0;31m \u001b[0mtest\u001b[0m\u001b[0;34m(\u001b[0m\u001b[0;34m)\u001b[0m\u001b[0;34m\u001b[0m\u001b[0;34m\u001b[0m\u001b[0m\n\u001b[0m",
            "\u001b[0;32m/tmp/ipython-input-3390323334.py\u001b[0m in \u001b[0;36mtest\u001b[0;34m()\u001b[0m\n\u001b[1;32m      2\u001b[0m \u001b[0mx\u001b[0m \u001b[0;34m=\u001b[0m \u001b[0;36m5\u001b[0m\u001b[0;34m\u001b[0m\u001b[0;34m\u001b[0m\u001b[0m\n\u001b[1;32m      3\u001b[0m \u001b[0;32mdef\u001b[0m \u001b[0mtest\u001b[0m\u001b[0;34m(\u001b[0m\u001b[0;34m)\u001b[0m\u001b[0;34m:\u001b[0m\u001b[0;34m\u001b[0m\u001b[0;34m\u001b[0m\u001b[0m\n\u001b[0;32m----> 4\u001b[0;31m     \u001b[0mprint\u001b[0m\u001b[0;34m(\u001b[0m\u001b[0mx\u001b[0m\u001b[0;34m)\u001b[0m  \u001b[0;31m# Error: local variable accessed before assignment\u001b[0m\u001b[0;34m\u001b[0m\u001b[0;34m\u001b[0m\u001b[0m\n\u001b[0m\u001b[1;32m      5\u001b[0m     \u001b[0mx\u001b[0m \u001b[0;34m=\u001b[0m \u001b[0;36m10\u001b[0m\u001b[0;34m\u001b[0m\u001b[0;34m\u001b[0m\u001b[0m\n\u001b[1;32m      6\u001b[0m     \u001b[0mprint\u001b[0m\u001b[0;34m(\u001b[0m\u001b[0mx\u001b[0m\u001b[0;34m)\u001b[0m\u001b[0;34m\u001b[0m\u001b[0;34m\u001b[0m\u001b[0m\n",
            "\u001b[0;31mUnboundLocalError\u001b[0m: cannot access local variable 'x' where it is not associated with a value"
          ]
        }
      ]
    },
    {
      "cell_type": "markdown",
      "source": [
        "Why does it fail?\n",
        "\n",
        "Python sees x = 10 inside the function.\n",
        "\n",
        "That makes x a local variable for the entire test() function (due to Python’s compile-time rule).\n",
        "\n",
        "When it reaches print(x) (before the assignment), Python thinks you’re referring to this local x, but it hasn’t been assigned yet."
      ],
      "metadata": {
        "id": "CVFRxLCrWtkI"
      }
    },
    {
      "cell_type": "code",
      "source": [
        "x = 5\n",
        "def test():\n",
        "    global x\n",
        "    print(x)   # prints 5\n",
        "    x = 10     # modifies global\n",
        "    print(x)   # prints 10\n",
        "\n",
        "test()\n",
        "print(\"Outside:\", x)  # prints 10\n"
      ],
      "metadata": {
        "colab": {
          "base_uri": "https://localhost:8080/"
        },
        "id": "I2mNd11-Wx__",
        "outputId": "dfde768e-6c3c-4aca-9fa7-a063469ebf90"
      },
      "execution_count": null,
      "outputs": [
        {
          "output_type": "stream",
          "name": "stdout",
          "text": [
            "5\n",
            "10\n",
            "Outside: 10\n"
          ]
        }
      ]
    },
    {
      "cell_type": "markdown",
      "source": [],
      "metadata": {
        "id": "fhVBQlKkWorh"
      }
    },
    {
      "cell_type": "markdown",
      "source": [
        "### Exercise 1\n",
        "1. Create a global variable `counter = 0`.\n",
        "2. Write a function `increment()` that increases `counter` by 1 each time it’s called using the `global` keyword.\n",
        "3. Call the function 3 times and print the counter value.\n"
      ],
      "metadata": {
        "id": "irQlz804U_cS"
      }
    },
    {
      "cell_type": "code",
      "source": [
        "counter = 0\n",
        "\n",
        "def increment():\n",
        "    global counter\n",
        "    counter += 1\n",
        "\n",
        "increment()\n",
        "increment()\n",
        "increment()\n",
        "print(\"Counter value:\", counter)  # Should print 3\n",
        "\n"
      ],
      "metadata": {
        "colab": {
          "base_uri": "https://localhost:8080/"
        },
        "id": "bzDzPvtaU14z",
        "outputId": "2610a308-2379-4432-f86c-aa6c1f3ae34c"
      },
      "execution_count": null,
      "outputs": [
        {
          "output_type": "stream",
          "name": "stdout",
          "text": [
            "Counter value: 3\n"
          ]
        }
      ]
    },
    {
      "cell_type": "code",
      "source": [
        "# -------------------------------\n",
        "# 1) Local vs Global Variables\n",
        "# -------------------------------\n",
        "# Local: Defined inside a function, accessible only there.\n",
        "# Global: Defined at top-level, accessible everywhere.\n",
        "# Q: Show difference between local and global variables.\n",
        "\n",
        "x = 10   # global\n",
        "\n",
        "def func():\n",
        "    y = 5   # local\n",
        "    print(\"Inside func, local y:\", y)\n",
        "    print(\"Inside func, global x:\", x)\n",
        "\n",
        "func()\n",
        "print(\"Outside func, global x:\", x)\n"
      ],
      "metadata": {
        "colab": {
          "base_uri": "https://localhost:8080/"
        },
        "id": "c2L8Q6fgVCUF",
        "outputId": "6be71853-a53a-4fc2-869c-8e51ac85f269"
      },
      "execution_count": null,
      "outputs": [
        {
          "output_type": "stream",
          "name": "stdout",
          "text": [
            "Inside func, local y: 5\n",
            "Inside func, global x: 10\n",
            "Outside func, global x: 10\n"
          ]
        }
      ]
    },
    {
      "cell_type": "code",
      "source": [
        "# -------------------------------\n",
        "# 2) Reading Global Variables inside a Function\n",
        "# -------------------------------\n",
        "# If you only READ a global inside a function, it's fine.\n",
        "# Q: Can we read x without declaring global?\n",
        "\n",
        "x = 100\n",
        "\n",
        "def read_global():\n",
        "    print(\"Reading global x:\", x)\n",
        "\n",
        "read_global()\n"
      ],
      "metadata": {
        "colab": {
          "base_uri": "https://localhost:8080/"
        },
        "id": "Q-Sm3kQ6ZGsY",
        "outputId": "83e2d49a-2e1e-40a0-a145-cdad4ce53409"
      },
      "execution_count": null,
      "outputs": [
        {
          "output_type": "stream",
          "name": "stdout",
          "text": [
            "Reading global x: 100\n"
          ]
        }
      ]
    },
    {
      "cell_type": "code",
      "source": [
        "# -------------------------------\n",
        "# 2) Reading Global Variables inside a Function\n",
        "# -------------------------------\n",
        "# If you only READ a global inside a function, it's fine.\n",
        "# Q: Can we read x without declaring global?\n",
        "\n",
        "x = 100\n",
        "\n",
        "def read_global():\n",
        "    print(\"Reading global x:\", x)\n",
        "\n",
        "read_global()\n"
      ],
      "metadata": {
        "colab": {
          "base_uri": "https://localhost:8080/"
        },
        "id": "y3zca0AiZItw",
        "outputId": "d384ff3e-e10a-4c8a-d8d7-6b568bb05050"
      },
      "execution_count": null,
      "outputs": [
        {
          "output_type": "stream",
          "name": "stdout",
          "text": [
            "Reading global x: 100\n"
          ]
        }
      ]
    },
    {
      "cell_type": "code",
      "source": [
        "# -------------------------------\n",
        "# 3) UnboundLocalError\n",
        "# -------------------------------\n",
        "# If you ASSIGN to a variable inside a function, Python thinks it's LOCAL.\n",
        "# Trying to read it before assignment → Error.\n",
        "# Q: What happens here?\n",
        "\n",
        "x = 50\n",
        "\n",
        "def test():\n",
        "    print(\"Before assignment, x:\", x)  # ❌ Error\n",
        "    x = 20\n",
        "    print(\"After assignment, x:\", x)\n",
        "\n",
        "# Uncomment to see the error\n",
        "# test()\n"
      ],
      "metadata": {
        "id": "pN3twt44ZKql"
      },
      "execution_count": null,
      "outputs": []
    },
    {
      "cell_type": "code",
      "source": [
        "# -------------------------------\n",
        "# 4) Fixing UnboundLocalError using 'global'\n",
        "# -------------------------------\n",
        "# If we want to modify global variable inside a function, declare it with 'global'.\n",
        "# Q: Fix the above function.\n",
        "\n",
        "x = 50\n",
        "\n",
        "def test_fixed():\n",
        "    global x\n",
        "    print(\"Before assignment, global x:\", x)\n",
        "    x = 20\n",
        "    print(\"After assignment, global x:\", x)\n",
        "\n",
        "test_fixed()\n",
        "print(\"Outside function, global x is now:\", x)\n"
      ],
      "metadata": {
        "colab": {
          "base_uri": "https://localhost:8080/"
        },
        "id": "nRz0uNZmZMyY",
        "outputId": "e14549cd-29fb-4033-fd5a-18ae629a16a3"
      },
      "execution_count": null,
      "outputs": [
        {
          "output_type": "stream",
          "name": "stdout",
          "text": [
            "Before assignment, global x: 50\n",
            "After assignment, global x: 20\n",
            "Outside function, global x is now: 20\n"
          ]
        }
      ]
    },
    {
      "cell_type": "code",
      "source": [
        "# -------------------------------\n",
        "# 5) LEGB Rule (Local → Enclosed → Global → Built-in)\n",
        "# -------------------------------\n",
        "# Python resolves variable names in this order:\n",
        "# Local, Enclosed, Global, Built-in\n",
        "# Q: Show example with nested functions.\n",
        "\n",
        "name = \"GLOBAL\"\n",
        "\n",
        "def outer():\n",
        "    name = \"ENCLOSED\"\n",
        "    def inner():\n",
        "        name = \"LOCAL\"\n",
        "        print(\"Inside inner:\", name)\n",
        "    inner()\n",
        "    print(\"Inside outer:\", name)\n",
        "\n",
        "outer()\n",
        "print(\"In global scope:\", name)\n"
      ],
      "metadata": {
        "colab": {
          "base_uri": "https://localhost:8080/"
        },
        "id": "dpnn4tRdZTkD",
        "outputId": "c141acc1-3866-4408-9659-4ee4e8ac450e"
      },
      "execution_count": null,
      "outputs": [
        {
          "output_type": "stream",
          "name": "stdout",
          "text": [
            "Inside inner: LOCAL\n",
            "Inside outer: ENCLOSED\n",
            "In global scope: GLOBAL\n"
          ]
        }
      ]
    },
    {
      "cell_type": "markdown",
      "source": [
        "Global, Local and Nonlocal Variables (Part 2)"
      ],
      "metadata": {
        "id": "S4Xg-cAhZYtj"
      }
    },
    {
      "cell_type": "code",
      "source": [
        "# -------------------------------\n",
        "# 1) Introducing 'nonlocal'\n",
        "# -------------------------------\n",
        "# 'nonlocal' allows modifying a variable from the ENCLOSING (outer) function scope.\n",
        "# Q: Show example with nested functions.\n",
        "\n",
        "def outer():\n",
        "    x = 10\n",
        "    def inner():\n",
        "        nonlocal x\n",
        "        print(\"Before:\", x)\n",
        "        x = 20\n",
        "        print(\"After:\", x)\n",
        "    inner()\n",
        "    print(\"Outer after inner:\", x)\n",
        "\n",
        "outer()\n"
      ],
      "metadata": {
        "colab": {
          "base_uri": "https://localhost:8080/"
        },
        "id": "NWSsgGciZWCC",
        "outputId": "0d8dfa64-833f-4886-9e9e-8623517769a3"
      },
      "execution_count": null,
      "outputs": [
        {
          "output_type": "stream",
          "name": "stdout",
          "text": [
            "Before: 10\n",
            "After: 20\n",
            "Outer after inner: 20\n"
          ]
        }
      ]
    },
    {
      "cell_type": "code",
      "source": [
        "# -------------------------------\n",
        "# 2) Without nonlocal (shadowing)\n",
        "# -------------------------------\n",
        "# If we don't use nonlocal, inner creates its own local x.\n",
        "# Q: What happens here?\n",
        "\n",
        "def outer():\n",
        "    x = 10\n",
        "    def inner():\n",
        "        x = 20   # new local, does not affect outer\n",
        "        print(\"Inner x:\", x)\n",
        "    inner()\n",
        "    print(\"Outer x:\", x)\n",
        "\n",
        "outer()\n"
      ],
      "metadata": {
        "colab": {
          "base_uri": "https://localhost:8080/"
        },
        "id": "57RFEFJiZdm6",
        "outputId": "40d41440-0380-42c1-d0c7-c56b6f8a997f"
      },
      "execution_count": null,
      "outputs": [
        {
          "output_type": "stream",
          "name": "stdout",
          "text": [
            "Inner x: 20\n",
            "Outer x: 10\n"
          ]
        }
      ]
    },
    {
      "cell_type": "code",
      "source": [
        "# -------------------------------\n",
        "# 3) Mutability vs Rebinding\n",
        "# -------------------------------\n",
        "# Mutating a global object (like append to a list) is OK.\n",
        "# Rebinding (x = ...) requires global/nonlocal.\n",
        "# Q: Show both cases.\n",
        "\n",
        "nums = []\n",
        "\n",
        "def add_item():\n",
        "    nums.append(1)   # ✅ mutation allowed\n",
        "    print(\"Inside:\", nums)\n",
        "\n",
        "add_item()\n",
        "print(\"Outside:\", nums)\n",
        "\n",
        "count = 0\n",
        "def increment():\n",
        "    # count += 1   # ❌ would error\n",
        "    pass\n"
      ],
      "metadata": {
        "colab": {
          "base_uri": "https://localhost:8080/"
        },
        "id": "I-g5VlH3ZflM",
        "outputId": "8699248d-6260-4335-ab20-6c7d43c727cb"
      },
      "execution_count": null,
      "outputs": [
        {
          "output_type": "stream",
          "name": "stdout",
          "text": [
            "Inside: [1]\n",
            "Outside: [1]\n"
          ]
        }
      ]
    },
    {
      "cell_type": "code",
      "source": [
        "# -------------------------------\n",
        "# 4) Closure Example with nonlocal\n",
        "# -------------------------------\n",
        "# nonlocal is powerful for building closures (functions with state).\n",
        "# Q: Create a counter function using nonlocal.\n",
        "\n",
        "def make_counter():\n",
        "    count = 0\n",
        "    def counter():\n",
        "        nonlocal count\n",
        "        count += 1\n",
        "        return count\n",
        "    return counter\n",
        "\n",
        "c = make_counter()\n",
        "print(c())  # 1\n",
        "print(c())  # 2\n",
        "print(c())  # 3\n"
      ],
      "metadata": {
        "colab": {
          "base_uri": "https://localhost:8080/"
        },
        "id": "nE-s5fqtZieE",
        "outputId": "f4d14f94-5a16-416a-e4a2-432b174484e3"
      },
      "execution_count": null,
      "outputs": [
        {
          "output_type": "stream",
          "name": "stdout",
          "text": [
            "1\n",
            "2\n",
            "3\n"
          ]
        }
      ]
    },
    {
      "cell_type": "code",
      "source": [
        "# -------------------------------\n",
        "# 5) Inspecting Namespaces\n",
        "# -------------------------------\n",
        "# globals() → dictionary of global variables\n",
        "# locals()  → dictionary of local variables\n",
        "# Q: Inspect inside a function.\n",
        "\n",
        "a = 10\n",
        "\n",
        "def inspect():\n",
        "    b = 20\n",
        "    print(\"locals:\", locals())\n",
        "    print(\"a in globals?\", 'a' in globals())\n",
        "\n",
        "inspect()\n"
      ],
      "metadata": {
        "colab": {
          "base_uri": "https://localhost:8080/"
        },
        "id": "Wz5rfLvFZk_l",
        "outputId": "89e75fc9-c775-4c7d-ab3d-65b86b2803ec"
      },
      "execution_count": null,
      "outputs": [
        {
          "output_type": "stream",
          "name": "stdout",
          "text": [
            "locals: {'b': 20}\n",
            "a in globals? True\n"
          ]
        }
      ]
    },
    {
      "cell_type": "code",
      "source": [
        "# -------------------------------\n",
        "# 6) Puzzle (for students)\n",
        "# -------------------------------\n",
        "# Q: Predict output.\n",
        "\n",
        "x = 1\n",
        "def a():\n",
        "    print(x)\n",
        "def b():\n",
        "    x = 2\n",
        "    a()\n",
        "b()\n"
      ],
      "metadata": {
        "colab": {
          "base_uri": "https://localhost:8080/"
        },
        "id": "7Aq2nZGYZnMF",
        "outputId": "002ba1f9-22b4-47f1-9b8e-72ad627c4224"
      },
      "execution_count": null,
      "outputs": [
        {
          "output_type": "stream",
          "name": "stdout",
          "text": [
            "1\n"
          ]
        }
      ]
    },
    {
      "cell_type": "code",
      "source": [
        "# ==============================================================\n",
        "# Python Notebook: Global Keywords and Namespaces (1 Hour Session)\n",
        "# ==============================================================\n",
        "# This notebook is designed for a 1-hour teaching session.\n",
        "# Each block contains theory (as comments), followed by runnable code.\n",
        "# --------------------------------------------------------------\n",
        "\n",
        "# ==============================================================\n",
        "# Part 1: Introduction to Namespaces\n",
        "# ==============================================================\n",
        "print(len([1, 2, 3]))   # Built-in namespace\n",
        "\n",
        "x = 100  # Global variable\n",
        "print(\"Global variable x:\", x)\n",
        "\n",
        "def demo_local():\n",
        "    y = 200  # Local variable\n",
        "    print(\"Local variable y:\", y)\n",
        "\n",
        "demo_local()\n",
        "\n",
        "# ==============================================================\n",
        "# Part 2: Understanding Scope (LEGB Rule)\n",
        "# ==============================================================\n",
        "\n",
        "z = 50  # Global\n",
        "\n",
        "def scope_demo():\n",
        "    z = 25  # Local\n",
        "    print(\"Inside function, z:\", z)\n",
        "\n",
        "scope_demo()\n",
        "print(\"Outside function, z:\", z)\n",
        "\n",
        "# ==============================================================\n",
        "# Part 3: Global Keyword\n",
        "# ==============================================================\n",
        "\n",
        "count = 0  # Global variable\n",
        "\n",
        "def increase():\n",
        "    global count\n",
        "    count += 1\n",
        "    print(\"Count inside function:\", count)\n",
        "\n",
        "increase()\n",
        "increase()\n",
        "print(\"Count outside function:\", count)\n",
        "\n",
        "# ==============================================================\n",
        "# Part 4: Without Global Keyword (Error Demo)\n",
        "# ==============================================================\n",
        "\n",
        "num = 10\n",
        "\n",
        "def wrong_update():\n",
        "    num = num + 1  # ERROR: UnboundLocalError\n",
        "    print(num)\n",
        "\n",
        "# Uncomment to see error\n",
        "# wrong_update()\n",
        "\n",
        "# ==============================================================\n",
        "# Part 5: Global inside Nested Functions\n",
        "# ==============================================================\n",
        "\n",
        "val = 5\n",
        "\n",
        "def outer():\n",
        "    def inner():\n",
        "        global val\n",
        "        val = 20\n",
        "    inner()\n",
        "\n",
        "outer()\n",
        "print(\"Value of val after nested function:\", val)\n",
        "\n",
        "# ==============================================================\n",
        "# Part 6: Best Practices\n",
        "# ==============================================================\n",
        "\n",
        "def better_increase(c):\n",
        "    c += 1\n",
        "    return c\n",
        "\n",
        "num = 0\n",
        "num = better_increase(num)\n",
        "print(\"Better approach result:\", num)\n",
        "\n",
        "# ==============================================================\n",
        "# Part 7: Hands-on Exercises with Solutions\n",
        "# ==============================================================\n",
        "\n",
        "# Exercise 1: Create a global variable 'total'.\n",
        "# Solution:\n",
        "total = 0\n",
        "\n",
        "def add_to_total(n):\n",
        "    global total\n",
        "    total += n\n",
        "    print(\"Total after adding:\", total)\n",
        "\n",
        "add_to_total(5)\n",
        "add_to_total(15)\n",
        "\n",
        "# --------------------------------------------------------------\n",
        "\n",
        "# Exercise 2: Bank account with deposit() and withdraw()\n",
        "# Solution:\n",
        "balance = 0\n",
        "\n",
        "def deposit(amount):\n",
        "    global balance\n",
        "    balance += amount\n",
        "    print(\"Deposited:\", amount, \"| Balance:\", balance)\n",
        "\n",
        "def withdraw(amount):\n",
        "    global balance\n",
        "    if amount <= balance:\n",
        "        balance -= amount\n",
        "        print(\"Withdrawn:\", amount, \"| Balance:\", balance)\n",
        "    else:\n",
        "        print(\"Insufficient funds! Current Balance:\", balance)\n",
        "\n",
        "deposit(100)\n",
        "withdraw(40)\n",
        "withdraw(80)\n",
        "\n",
        "# --------------------------------------------------------------\n",
        "\n",
        "# Exercise 3: Update global variable without global keyword\n",
        "# (Expect an error)\n",
        "\n",
        "value = 10\n",
        "\n",
        "def try_update():\n",
        "    value = value + 5  # This will raise UnboundLocalError\n",
        "    print(value)\n",
        "\n",
        "# Uncomment to see error\n",
        "# try_update()\n",
        "\n",
        "# --------------------------------------------------------------\n",
        "\n",
        "# Exercise 4: Global counter function\n",
        "# Solution:\n",
        "counter = 0\n",
        "\n",
        "def counter_func():\n",
        "    global counter\n",
        "    counter += 1\n",
        "    print(\"Counter:\", counter)\n",
        "\n",
        "counter_func()\n",
        "counter_func()\n",
        "counter_func()\n",
        "\n",
        "# --------------------------------------------------------------\n",
        "\n",
        "# Exercise 5: Rewrite WITHOUT using global (better approach)\n",
        "# Solution:\n",
        "\n",
        "# With global\n",
        "global_counter = 0\n",
        "\n",
        "def global_counter_func():\n",
        "    global global_counter\n",
        "    global_counter += 1\n",
        "    print(\"Global Counter:\", global_counter)\n",
        "\n",
        "# Without global (pass as argument and return new value)\n",
        "def counter_no_global(c):\n",
        "    c += 1\n",
        "    return c\n",
        "\n",
        "print(\"Using global:\")\n",
        "global_counter_func()\n",
        "global_counter_func()\n",
        "\n",
        "print(\"Using no global:\")\n",
        "count_var = 0\n",
        "count_var = counter_no_global(count_var)\n",
        "print(\"Counter:\", count_var)\n",
        "count_var = counter_no_global(count_var)\n",
        "print(\"Counter:\", count_var)\n"
      ],
      "metadata": {
        "id": "7Gjr4BFeZtw8"
      },
      "execution_count": null,
      "outputs": []
    }
  ]
}