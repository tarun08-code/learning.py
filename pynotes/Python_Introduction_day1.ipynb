{
  "nbformat": 4,
  "nbformat_minor": 0,
  "metadata": {
    "colab": {
      "provenance": []
    },
    "kernelspec": {
      "name": "python3",
      "display_name": "Python 3"
    },
    "language_info": {
      "name": "python"
    }
  },
  "cells": [
    {
      "cell_type": "markdown",
      "source": [
        "## 6. Installing Anaconda\n",
        "\n",
        "\n",
        "### Notes:\n",
        "- **Anaconda** is a distribution of Python for data science.\n",
        "- Steps to Install:\n",
        "1. Download from [Anaconda Official Website](https://www.anaconda.com/download)\n",
        "2. Run installer and follow instructions.\n",
        "3. Open **Anaconda Navigator** or **Anaconda Prompt**.\n",
        "4. Verify installation using:\n",
        "```bash\n",
        "conda --version\n",
        "```\n",
        "- Anaconda comes with **Jupyter Notebook, Spyder, Conda, and many libraries** pre-installed."
      ],
      "metadata": {
        "id": "EWV9GHmVF3sT"
      }
    },
    {
      "cell_type": "markdown",
      "source": [
        "## 1. Python Introduction\n",
        "\n",
        "\n",
        "### Notes:\n",
        "- Python is a **high-level, interpreted, object-oriented** programming language.\n",
        "- Features:\n",
        "- Easy to read and write (simple syntax)\n",
        "- Open-source and cross-platform\n",
        "- Large standard library\n",
        "- Popular in **Data Analytics, Machine Learning, AI, and Web Development**,Devops\n",
        "- First program in Python is usually `Hello, World!`\n",
        "--latency issue becuse codes intrepreted line by line /"
      ],
      "metadata": {
        "id": "JRwMVGe4DDij"
      }
    },
    {
      "cell_type": "code",
      "source": [
        "### Code:\n",
        "# python\n",
        "print(\"Hello, World!\")"
      ],
      "metadata": {
        "colab": {
          "base_uri": "https://localhost:8080/"
        },
        "id": "cGhzdqymDKNL",
        "outputId": "00835467-f6b2-470a-aa35-cd1a82fc286f"
      },
      "execution_count": null,
      "outputs": [
        {
          "output_type": "stream",
          "name": "stdout",
          "text": [
            "Hello, World!\n"
          ]
        }
      ]
    },
    {
      "cell_type": "markdown",
      "source": [
        "## 2. Variables and Constants\n",
        "\n",
        "\n",
        "### Notes:\n",
        "- **Variable:** A name that refers to a value stored in memory.\n",
        "- Rules for variables:\n",
        "- Must start with a letter or underscore.\n",
        "- Cannot start with a number.\n",
        "- Case-sensitive.\n",
        "- **Constant:** Python does not have a true constant type. By convention, constants are written in **uppercase letters**."
      ],
      "metadata": {
        "id": "LKsSiBULDVtq"
      }
    },
    {
      "cell_type": "code",
      "source": [
        "# python\n",
        "x = 10  # variable\n",
        "PI = 3.14159 # constant (by convention)\n",
        "\n",
        "print(\"Variable x:\", x)\n",
        "print(\"Constant PI:\", PI)"
      ],
      "metadata": {
        "colab": {
          "base_uri": "https://localhost:8080/"
        },
        "id": "dQv0Y9cKDKuB",
        "outputId": "53f72d1d-5ba7-4fe9-f29b-a5bf8dc41340"
      },
      "execution_count": null,
      "outputs": [
        {
          "output_type": "stream",
          "name": "stdout",
          "text": [
            "Variable x: 10\n",
            "Constant PI: 3.14159\n"
          ]
        }
      ]
    },
    {
      "cell_type": "code",
      "source": [
        "x1 = 10  # variable (integer)\n",
        "PI = 3.14159  # constant (by convention)\n",
        "\n",
        "print(\"Variable x:\", x1)\n",
        "print(\"Constant PI:\", PI)\n"
      ],
      "metadata": {
        "colab": {
          "base_uri": "https://localhost:8080/"
        },
        "id": "ffLq0mgbI8U-",
        "outputId": "2c382e88-44da-4f08-def2-c20e25079bf6"
      },
      "execution_count": null,
      "outputs": [
        {
          "output_type": "stream",
          "name": "stdout",
          "text": [
            "Variable x: 10\n",
            "Constant PI: 3.14159\n"
          ]
        }
      ]
    },
    {
      "cell_type": "code",
      "source": [
        "del print   # restores built-in print\n"
      ],
      "metadata": {
        "id": "-xrGkeTyJNHq"
      },
      "execution_count": null,
      "outputs": []
    },
    {
      "cell_type": "code",
      "source": [],
      "metadata": {
        "id": "Z5ipDMQ3JT5b"
      },
      "execution_count": null,
      "outputs": []
    },
    {
      "cell_type": "markdown",
      "source": [
        "## 3. Data Types\n",
        "\n",
        "\n",
        "### Notes:\n",
        "- **Numeric Types:** int, float, complex\n",
        "- **Text Type:** str\n",
        "- **Boolean Type:** bool (True/False)\n",
        "- **Sequence Types:** list, tuple, range\n",
        "-Arrays-unidimension\n",
        "- **Set Types:** set, frozenset\n",
        "- **Mapping Type:** dict----key value pairs-----{cities:[bengaluru,mumbai,kolkata,delhi]}"
      ],
      "metadata": {
        "id": "5ABtgS9ODmIz"
      }
    },
    {
      "cell_type": "code",
      "source": [
        "x3= range(10)\n",
        "x3"
      ],
      "metadata": {
        "colab": {
          "base_uri": "https://localhost:8080/"
        },
        "id": "y45oehQKKyXT",
        "outputId": "dbd03e8e-8de4-46ea-a679-32dd08695fae"
      },
      "execution_count": null,
      "outputs": [
        {
          "output_type": "execute_result",
          "data": {
            "text/plain": [
              "range(0, 10)"
            ]
          },
          "metadata": {},
          "execution_count": 17
        }
      ]
    },
    {
      "cell_type": "code",
      "source": [
        "# python\n",
        "num = 5 # int\n",
        "decimal = 3.14 # float\n",
        "name = \"Python\" # string\n",
        "is_easy = True # boolean\n",
        "h=[4,7,9,'hi']#list\n",
        "g=(2,5)\n",
        "\n",
        "print(type(num), type(decimal), type(name), type(is_easy),type(h),type(g))"
      ],
      "metadata": {
        "colab": {
          "base_uri": "https://localhost:8080/"
        },
        "id": "9dbyKBTCDqSK",
        "outputId": "ebd9a1a2-81b9-40d2-e481-32aa552a3bc7"
      },
      "execution_count": null,
      "outputs": [
        {
          "output_type": "stream",
          "name": "stdout",
          "text": [
            "<class 'int'> <class 'float'> <class 'str'> <class 'bool'> <class 'list'> <class 'tuple'>\n"
          ]
        }
      ]
    },
    {
      "cell_type": "markdown",
      "source": [
        "## 4. Array Implementation\n",
        "\n",
        "\n",
        "### Notes:\n",
        "- Python does not have a built-in array like C/Java.\n",
        "- **Lists** can be used as arrays.\n",
        "- For numeric operations, we can use the **array module** or **NumPy** (in Data Analytics)."
      ],
      "metadata": {
        "id": "tH1mwZEdDyFL"
      }
    },
    {
      "cell_type": "code",
      "source": [
        "### Code:\n",
        "# ```python\n",
        "# Using list as array\n",
        "arr = [10, 20, 30, 40]\n",
        "print(\"List as array:\", arr)\n",
        "\n",
        "\n",
        "# Using array module\n",
        "import array\n",
        "arr2 = array.array('i', [6]) # 'i' means integer type,# 'f' for float,\n",
        "print(\"Array module:\", arr2)"
      ],
      "metadata": {
        "colab": {
          "base_uri": "https://localhost:8080/"
        },
        "id": "Dt2w-shQD1Dz",
        "outputId": "ba1f2f8b-e6d4-4afd-88f4-af7fba9a514f"
      },
      "execution_count": null,
      "outputs": [
        {
          "output_type": "stream",
          "name": "stdout",
          "text": [
            "List as array: [10, 20, 30, 40]\n",
            "Array module: array('i', [6])\n"
          ]
        }
      ]
    },
    {
      "cell_type": "code",
      "source": [
        "# Using array module\n",
        "import array\n",
        "arr2 = array.array( 'i',[5,78]) # 'i' means integer type\n",
        "print(\"Array module:\", arr2)"
      ],
      "metadata": {
        "colab": {
          "base_uri": "https://localhost:8080/"
        },
        "id": "OjbPMegfCZuE",
        "outputId": "243c1a3f-b7f9-4fdc-ece4-b9ef062f6616"
      },
      "execution_count": null,
      "outputs": [
        {
          "output_type": "stream",
          "name": "stdout",
          "text": [
            "Array module: array('i', [5, 78])\n"
          ]
        }
      ]
    },
    {
      "cell_type": "code",
      "source": [
        "### Practice Exercise:\n",
        "# 1. Create a list with 5 numbers and print the first and last elements.\n",
        "# 2. Create an array using the `array` module with integers and print it.\n",
        "\n",
        "\n",
        "### Solutions:\n",
        "# ```python\n",
        "# Exercise 1\n",
        "nums = [5, 10, 15, 20, 25]\n",
        "# nums[3]\n",
        "nums[:3]\n",
        "#nums[0:2]\n",
        "\n",
        "#print(\"First:\", nums[0], \"Last:\", nums[-1])\n",
        "\n",
        "\n",
        "# # Exercise 2\n",
        "# import array\n",
        "# arr3 = array.array('i', [2, 4, 6, 8, 10])\n",
        "# print(arr3)"
      ],
      "metadata": {
        "colab": {
          "base_uri": "https://localhost:8080/"
        },
        "id": "zVvQJuKIGYQs",
        "outputId": "7e96b6dd-538d-4395-a1a8-53045998b5c2"
      },
      "execution_count": null,
      "outputs": [
        {
          "output_type": "execute_result",
          "data": {
            "text/plain": [
              "20"
            ]
          },
          "metadata": {},
          "execution_count": 19
        }
      ]
    },
    {
      "cell_type": "code",
      "source": [
        "nums = [5, 10, 15, 20, 25]\n",
        "nums[0]"
      ],
      "metadata": {
        "colab": {
          "base_uri": "https://localhost:8080/"
        },
        "id": "Y951BxSXPobF",
        "outputId": "f1bacd50-eb1e-423c-c513-fb142e3682b2"
      },
      "execution_count": null,
      "outputs": [
        {
          "output_type": "execute_result",
          "data": {
            "text/plain": [
              "5"
            ]
          },
          "metadata": {},
          "execution_count": 33
        }
      ]
    },
    {
      "cell_type": "code",
      "source": [
        "nums[4]"
      ],
      "metadata": {
        "colab": {
          "base_uri": "https://localhost:8080/"
        },
        "id": "SK3hOgHTPsIM",
        "outputId": "2d693f3c-c19f-46b2-bd34-c5684d5c213e"
      },
      "execution_count": null,
      "outputs": [
        {
          "output_type": "execute_result",
          "data": {
            "text/plain": [
              "25"
            ]
          },
          "metadata": {},
          "execution_count": 34
        }
      ]
    },
    {
      "cell_type": "code",
      "source": [
        "import array\n",
        "arr3 = array.array('i', [2, 4, 6, 8, 10])\n",
        "print(arr3)"
      ],
      "metadata": {
        "colab": {
          "base_uri": "https://localhost:8080/"
        },
        "id": "ipgCt4zLR7ka",
        "outputId": "1a54e1ae-574c-4f90-f8d0-41459771a99a"
      },
      "execution_count": null,
      "outputs": [
        {
          "output_type": "stream",
          "name": "stdout",
          "text": [
            "array('i', [2, 4, 6, 8, 10])\n"
          ]
        }
      ]
    },
    {
      "cell_type": "markdown",
      "source": [
        "## 5. File Methods\n",
        "\n",
        "\n",
        "### Notes:\n",
        "- Files allow reading and writing data.\n",
        "- Modes:\n",
        "- \"r\" → read\n",
        "- \"w\" → write (overwrites)\n",
        "- \"a\" → append\n",
        "- \"b\" → binary\n",
        "- Always close files after use (or use `with` statement)."
      ],
      "metadata": {
        "id": "phYRR3H5EB67"
      }
    },
    {
      "cell_type": "code",
      "source": [],
      "metadata": {
        "id": "lcGYNDg2ED48"
      },
      "execution_count": null,
      "outputs": []
    },
    {
      "cell_type": "code",
      "source": [
        "### Code:\n",
        "# ```python\n",
        "# Writing to a file\n",
        "with open(\"sample.txt\", \"w\") as f:\n",
        "  f.write(\"Hello, this is a sample file.\\n\")\n"
      ],
      "metadata": {
        "id": "h-E9QMy0FHEy"
      },
      "execution_count": null,
      "outputs": []
    },
    {
      "cell_type": "code",
      "source": [
        "# Reading from a file\n",
        "with open(\"sample.txt\", \"r\") as f:\n",
        "  content = f.read()\n",
        "print(\"File content:\", content)"
      ],
      "metadata": {
        "colab": {
          "base_uri": "https://localhost:8080/"
        },
        "id": "O6Qz94KGFna7",
        "outputId": "5e332e05-be7a-4b9f-a8fe-13fc5d45a90c"
      },
      "execution_count": null,
      "outputs": [
        {
          "output_type": "stream",
          "name": "stdout",
          "text": [
            "File content: Hello, this is a sample file.\n",
            "\n"
          ]
        }
      ]
    },
    {
      "cell_type": "code",
      "source": [
        "n"
      ],
      "metadata": {
        "id": "SCKSLoEyUCo2"
      },
      "execution_count": null,
      "outputs": []
    },
    {
      "cell_type": "markdown",
      "source": [
        "### Practice Exercise:\n",
        "1. Write your name into a file called `student.txt`.\n",
        "2. Read the content back and print it.\n",
        "\n",
        "\n",
        "### Solutions:\n",
        "```python\n",
        "# Writing\n",
        "with open(\"student.txt\", \"w\") as f:\n",
        "f.write(\"My name is Alice\")\n",
        "\n",
        "\n",
        "# Reading\n",
        "with open(\"student.txt\", \"r\") as f:\n",
        "data = f.read()\n",
        "print(data)"
      ],
      "metadata": {
        "id": "XnH4rp0WGt_z"
      }
    },
    {
      "cell_type": "code",
      "source": [
        "# Writing\n",
        "with open(\"student.txt\", \"w\") as f:\n",
        "  f.write(\"My name is Alice\")"
      ],
      "metadata": {
        "id": "F0RI6OONUOwd"
      },
      "execution_count": null,
      "outputs": []
    },
    {
      "cell_type": "code",
      "source": [
        "# Writing\n",
        "with open(\"student.txt\", \"r\") as f:\n",
        "  data=f.read()\n",
        "print(data)"
      ],
      "metadata": {
        "id": "6JU-I3BYGwGB",
        "colab": {
          "base_uri": "https://localhost:8080/"
        },
        "outputId": "cba1c993-9d51-4493-ae83-8df099544334"
      },
      "execution_count": null,
      "outputs": [
        {
          "output_type": "stream",
          "name": "stdout",
          "text": [
            "My name is Alice\n"
          ]
        }
      ]
    }
  ]
}