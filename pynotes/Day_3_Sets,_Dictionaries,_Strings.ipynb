{
  "nbformat": 4,
  "nbformat_minor": 0,
  "metadata": {
    "colab": {
      "provenance": []
    },
    "kernelspec": {
      "name": "python3",
      "display_name": "Python 3"
    },
    "language_info": {
      "name": "python"
    }
  },
  "cells": [
    {
      "cell_type": "code",
      "execution_count": null,
      "metadata": {
        "id": "m5ZE_5HWOYJf"
      },
      "outputs": [],
      "source": [
        "# =================================\n",
        "# Part 1: Sets in Python\n",
        "# =================================\n",
        "# Lecture:\n",
        "# - A Set is an unordered, unindexed collection of unique elements.\n",
        "# - Duplicates are automatically removed.\n",
        "# - Mutable, but only immutable objects can be elements (no lists inside sets).\n",
        "# - Common operations: union, intersection, difference A-B- ----present only in a, subset, superset.\n",
        "#-----if set is made immutable then it is frozen set\n"
      ]
    },
    {
      "cell_type": "code",
      "source": [
        "#union\n",
        "A={1,2,3}\n",
        "B={3,4,5}\n",
        "print(A|B)"
      ],
      "metadata": {
        "colab": {
          "base_uri": "https://localhost:8080/"
        },
        "id": "bavBufQTOaf9",
        "outputId": "8ca47fad-3f78-4473-d2dc-f4cbb590cfd9"
      },
      "execution_count": null,
      "outputs": [
        {
          "output_type": "stream",
          "name": "stdout",
          "text": [
            "{1, 2, 3, 4, 5}\n"
          ]
        }
      ]
    },
    {
      "cell_type": "code",
      "source": [
        "#Intersection\n",
        "print (A & B)"
      ],
      "metadata": {
        "colab": {
          "base_uri": "https://localhost:8080/"
        },
        "id": "BaK4OQp4OzLF",
        "outputId": "8112b38e-950a-40a2-fb73-83bbc5d8cb1b"
      },
      "execution_count": null,
      "outputs": [
        {
          "output_type": "stream",
          "name": "stdout",
          "text": [
            "{3}\n"
          ]
        }
      ]
    },
    {
      "cell_type": "code",
      "source": [
        "#difference A- B elements in A not in B\n",
        "print(A-B)"
      ],
      "metadata": {
        "colab": {
          "base_uri": "https://localhost:8080/"
        },
        "id": "VnWcniyDO_NN",
        "outputId": "72a226dd-de9c-4723-ee5e-1640de8c79ef"
      },
      "execution_count": null,
      "outputs": [
        {
          "output_type": "stream",
          "name": "stdout",
          "text": [
            "{1, 2}\n"
          ]
        }
      ]
    },
    {
      "cell_type": "code",
      "source": [
        "# Example: Creating Sets\n",
        "set1 = {1, 2, 3, 4, 4, 5}\n",
        "print(\"Set with duplicates removed:\", set1)\n",
        "\n",
        "set2 = set([3, 4, 5, 6])\n",
        "print(\"Set created from list:\", set2)\n"
      ],
      "metadata": {
        "colab": {
          "base_uri": "https://localhost:8080/"
        },
        "id": "ZjB9D0ptPIuU",
        "outputId": "ba85fd30-70de-4043-d1ce-789fc1499679"
      },
      "execution_count": null,
      "outputs": [
        {
          "output_type": "stream",
          "name": "stdout",
          "text": [
            "Set with duplicates removed: {1, 2, 3, 4, 5}\n",
            "Set created from list: {3, 4, 5, 6}\n"
          ]
        }
      ]
    },
    {
      "cell_type": "code",
      "source": [
        "# Example: Set Operations\n",
        "A = {1, 2, 3, 4}\n",
        "B = {3, 4, 5, 6}\n",
        "print(\"Union:\", A | B)\n",
        "print(\"Intersection:\", A & B)\n",
        "print(\"Difference:\", A - B)\n",
        "print(\"Symmetric Difference:\", A ^ B)\n"
      ],
      "metadata": {
        "colab": {
          "base_uri": "https://localhost:8080/"
        },
        "id": "dZNzQMxuPNRL",
        "outputId": "16f63d28-cba4-4584-8df2-23a8308e9f9e"
      },
      "execution_count": null,
      "outputs": [
        {
          "output_type": "stream",
          "name": "stdout",
          "text": [
            "Union: {1, 2, 3, 4, 5, 6}\n",
            "Intersection: {3, 4}\n",
            "Difference: {1, 2}\n",
            "Symmetric Difference: {1, 2, 5, 6}\n"
          ]
        }
      ]
    },
    {
      "cell_type": "markdown",
      "source": [
        "# -------------------------------\n",
        "# Hands-On Exercise 1 (Sets)\n",
        "# -------------------------------\n",
        "# Q: Create two sets:\n",
        "#    evens = {2, 4, 6, 8, 10}\n",
        "#    odds = {1, 3, 5, 7, 9}\n",
        "#    Find:\n",
        "#    - Union\n",
        "#    - Intersection\n",
        "#    - Difference (evens - odds)\n",
        "#    - Check if {2,4} is subset of evens\n"
      ],
      "metadata": {
        "id": "FFt9oUBpPPic"
      }
    },
    {
      "cell_type": "markdown",
      "source": [
        "# =================================\n",
        "# Part 2: Dictionaries in Python\n",
        "# =================================\n",
        "# Lecture:\n",
        "# - A dictionary stores data in key:value pairs.\n",
        "# - Keys must be unique & immutable (string, number, tuple).\n",
        "# - Values can be any data type.\n",
        "# - Dictionaries are mutable.\n",
        "#dict unordered collection of keys and values pairs\n"
      ],
      "metadata": {
        "id": "nzVo17UtPUNb"
      }
    },
    {
      "cell_type": "code",
      "source": [
        "# Example: Creating a Dictionary\n",
        "student = {\"name\": \"Alice\",\"age\": 22,\"courses\": [\"Math\", \"Physics\",\"chemistry\"]}\n",
        "print(student)"
      ],
      "metadata": {
        "colab": {
          "base_uri": "https://localhost:8080/"
        },
        "id": "De5zlyv_PXa8",
        "outputId": "49eaa8f0-3fa4-4e44-fb54-b0705466ecf9"
      },
      "execution_count": null,
      "outputs": [
        {
          "output_type": "stream",
          "name": "stdout",
          "text": [
            "{'name': 'Alice', 'age': 22, 'courses': ['Math', 'Physics', 'chemistry']}\n"
          ]
        }
      ]
    },
    {
      "cell_type": "code",
      "source": [
        "student[\"courses\"]"
      ],
      "metadata": {
        "colab": {
          "base_uri": "https://localhost:8080/"
        },
        "id": "_NnQeOtmRqkx",
        "outputId": "2460ab36-58ab-419a-f4e0-47f7ffd34338"
      },
      "execution_count": null,
      "outputs": [
        {
          "output_type": "execute_result",
          "data": {
            "text/plain": [
              "['Math', 'Physics', 'chemistry']"
            ]
          },
          "metadata": {},
          "execution_count": 8
        }
      ]
    },
    {
      "cell_type": "code",
      "source": [
        "# Example: Access & Update\n",
        "#print(\"Name:\", student[\"name\"])\n",
        "student[\"age\"] = 24\n",
        "student[\"city\"] = \"mumbai\"\n",
        "print(\"Updated Dictionary:\", student)\n"
      ],
      "metadata": {
        "colab": {
          "base_uri": "https://localhost:8080/"
        },
        "id": "7iAg-r2PPadO",
        "outputId": "a9cf65a3-8b24-4e55-ea4c-4e4cfa5eaafe"
      },
      "execution_count": null,
      "outputs": [
        {
          "output_type": "stream",
          "name": "stdout",
          "text": [
            "Updated Dictionary: {'name': 'Alice', 'age': 24, 'courses': ['Math', 'Physics', 'chemistry'], 'city': 'mumbai'}\n"
          ]
        }
      ]
    },
    {
      "cell_type": "code",
      "source": [
        "# Example: Dictionary Methods\n",
        "print(\"Keys:\", student.keys())\n",
        "print(\"Values:\", student.values())\n",
        "print(\"Items:\", student.items())\n",
        "print(\"Get city safely:\", student.get(\"city\", \"Not Found\"))\n"
      ],
      "metadata": {
        "colab": {
          "base_uri": "https://localhost:8080/"
        },
        "id": "F1RuvJ7bPbIn",
        "outputId": "5497e298-17dd-4c21-8e06-cd62a87b5784"
      },
      "execution_count": null,
      "outputs": [
        {
          "output_type": "stream",
          "name": "stdout",
          "text": [
            "Keys: dict_keys(['name', 'age', 'courses', 'city'])\n",
            "Values: dict_values(['Alice', 24, ['Math', 'Physics', 'chemistry'], 'mumbai'])\n",
            "Items: dict_items([('name', 'Alice'), ('age', 24), ('courses', ['Math', 'Physics', 'chemistry']), ('city', 'mumbai')])\n",
            "Get city safely: mumbai\n"
          ]
        }
      ]
    },
    {
      "cell_type": "code",
      "source": [
        "print(student[\"name\"])"
      ],
      "metadata": {
        "colab": {
          "base_uri": "https://localhost:8080/"
        },
        "id": "59bgoGdiTMiL",
        "outputId": "db970d4b-3a17-42e4-e127-02d85f12e8c1"
      },
      "execution_count": null,
      "outputs": [
        {
          "output_type": "stream",
          "name": "stdout",
          "text": [
            "Alice\n"
          ]
        }
      ]
    },
    {
      "cell_type": "code",
      "source": [
        "print(student.get(\"courses\"))"
      ],
      "metadata": {
        "colab": {
          "base_uri": "https://localhost:8080/"
        },
        "id": "ZNdoVdoBTj7Z",
        "outputId": "d2d8297c-af56-4f35-aef7-6e0f027afa89"
      },
      "execution_count": null,
      "outputs": [
        {
          "output_type": "stream",
          "name": "stdout",
          "text": [
            "['Math', 'Physics', 'chemistry']\n"
          ]
        }
      ]
    },
    {
      "cell_type": "code",
      "source": [
        "#remove key-value pair\n",
        "student.pop(\"city\")\n"
      ],
      "metadata": {
        "colab": {
          "base_uri": "https://localhost:8080/",
          "height": 36
        },
        "id": "hj7vBci0T1Um",
        "outputId": "85ce9577-ca10-400f-8766-686993d32d9e"
      },
      "execution_count": null,
      "outputs": [
        {
          "output_type": "execute_result",
          "data": {
            "text/plain": [
              "'mumbai'"
            ],
            "application/vnd.google.colaboratory.intrinsic+json": {
              "type": "string"
            }
          },
          "metadata": {},
          "execution_count": 14
        }
      ]
    },
    {
      "cell_type": "code",
      "source": [
        "#ast inserted item\n",
        "student.popitem()"
      ],
      "metadata": {
        "colab": {
          "base_uri": "https://localhost:8080/"
        },
        "id": "8GRqEOj_UQOX",
        "outputId": "bdde218d-3422-434e-9958-e9002c52d6a0"
      },
      "execution_count": null,
      "outputs": [
        {
          "output_type": "execute_result",
          "data": {
            "text/plain": [
              "('name', 'Alice')"
            ]
          },
          "metadata": {},
          "execution_count": 20
        }
      ]
    },
    {
      "cell_type": "code",
      "source": [
        "student"
      ],
      "metadata": {
        "colab": {
          "base_uri": "https://localhost:8080/"
        },
        "id": "LM8MorLyULuW",
        "outputId": "46252773-59f6-4c65-dc5d-705a2fdee753"
      },
      "execution_count": null,
      "outputs": [
        {
          "output_type": "execute_result",
          "data": {
            "text/plain": [
              "{'name': 'Alice', 'age': 24, 'courses': ['Math', 'Physics', 'chemistry']}"
            ]
          },
          "metadata": {},
          "execution_count": 15
        }
      ]
    },
    {
      "cell_type": "code",
      "source": [
        "student"
      ],
      "metadata": {
        "colab": {
          "base_uri": "https://localhost:8080/"
        },
        "id": "1QcjpTEIUfvM",
        "outputId": "e75669ab-d4ad-497b-b022-5032cce78393"
      },
      "execution_count": null,
      "outputs": [
        {
          "output_type": "execute_result",
          "data": {
            "text/plain": [
              "{}"
            ]
          },
          "metadata": {},
          "execution_count": 21
        }
      ]
    },
    {
      "cell_type": "code",
      "source": [
        "#nestesd Dictory\n",
        "employees={\"e001\":{\"name\":\"rohith\",\"dept\":\"HR\"},\n",
        "           \"e002\":{\"name\":\"deepika\",\"dept\":\"IT\"},\n",
        "           \"e003\":{\"name\":\"kingsli\",\"dept\":\"finance\"}}\n",
        "print(employees[\"e001\"][\"name\"])"
      ],
      "metadata": {
        "colab": {
          "base_uri": "https://localhost:8080/"
        },
        "id": "fNJdTTdWU2Hu",
        "outputId": "ab1645b3-d549-4fbf-e95f-474ef6900c87"
      },
      "execution_count": null,
      "outputs": [
        {
          "output_type": "stream",
          "name": "stdout",
          "text": [
            "rohith\n"
          ]
        }
      ]
    },
    {
      "cell_type": "code",
      "source": [
        "#Dictionary comphrehension\n",
        "numbers=[1,2,3,4,89]\n",
        "squares={x:x**2 for x in numbers}\n",
        "print(squares)"
      ],
      "metadata": {
        "colab": {
          "base_uri": "https://localhost:8080/"
        },
        "id": "ya7VjPaKWGou",
        "outputId": "1569ef8f-65ef-4623-85e6-38ac230aefc8"
      },
      "execution_count": null,
      "outputs": [
        {
          "output_type": "stream",
          "name": "stdout",
          "text": [
            "{1: 1, 2: 4, 3: 9, 4: 16, 89: 7921}\n"
          ]
        }
      ]
    },
    {
      "cell_type": "markdown",
      "source": [
        "# -------------------------------\n",
        "# Hands-On Exercise 2 (Dictionaries)\n",
        "# -------------------------------\n",
        "# Q: Create a dictionary \"marks\" with subjects as keys and scores as values.\n",
        "#    subjects = [\"Math\", \"English\", \"Science\"]\n",
        "#    scores = [90, 85, 92]\n",
        "#    - Print all subjects\n",
        "#    - Print all scores\n",
        "#    - Add a new subject \"History\": 88\n",
        "#    - Update \"Math\" score to 95\n",
        "#    - Delete \"English\"\n"
      ],
      "metadata": {
        "id": "DVQfqYOWPfXk"
      }
    },
    {
      "cell_type": "markdown",
      "source": [
        "# =================================\n",
        "# Part 3: Strings and Manipulation (Part 1)\n",
        "# =================================\n",
        "# Lecture:\n",
        "# - Strings are sequences of characters enclosed in single/double quotes.\n",
        "# - Strings are immutable.\n",
        "# - Indexing, slicing works like lists.\n",
        "# - Common operations: concatenation, repetition, membership test.\n"
      ],
      "metadata": {
        "id": "OZ5stmDMPlHE"
      }
    },
    {
      "cell_type": "code",
      "source": [
        "# Example: String Indexing & Slicing\n",
        "text = \"PythonProgramming\"\n",
        "print(\"First char:\", text[0])\n",
        "print(\"Last char:\", text[-1])\n",
        "print(\"Substring [0:6]:\", text[0:6])\n",
        "print(\"Every 2nd char:\", text[::2])\n"
      ],
      "metadata": {
        "colab": {
          "base_uri": "https://localhost:8080/"
        },
        "id": "0Z6MEWWePf_2",
        "outputId": "a11c6f77-67b5-41f8-e87a-70f09ebfa54a"
      },
      "execution_count": null,
      "outputs": [
        {
          "output_type": "stream",
          "name": "stdout",
          "text": [
            "First char: P\n",
            "Last char: g\n",
            "Substring [0:6]: Python\n",
            "Every 2nd char: PtoPormig\n"
          ]
        }
      ]
    },
    {
      "cell_type": "code",
      "source": [
        "# Example: String Operations\n",
        "s1 = \"Hello\"\n",
        "s2 = \"World\"\n",
        "print(\"Concatenation:\", s1 + \" \" + s2)\n",
        "print(\"Repetition:\", s1 * 2)\n",
        "print(\"Membership:\", \"ell\" in s1)\n"
      ],
      "metadata": {
        "colab": {
          "base_uri": "https://localhost:8080/"
        },
        "id": "MYtaS6_CPp88",
        "outputId": "ec2fbc01-1cc2-49f0-89ec-6fd683f0eb0b"
      },
      "execution_count": null,
      "outputs": [
        {
          "output_type": "stream",
          "name": "stdout",
          "text": [
            "Concatenation: Hello World\n",
            "Repetition: HelloHello\n",
            "Membership: True\n"
          ]
        }
      ]
    },
    {
      "cell_type": "markdown",
      "source": [
        "# -------------------------------\n",
        "# Hands-On Exercise 3 (Strings Part 1)\n",
        "# -------------------------------\n",
        "# Q: Given string = \"DataEngineering\"\n",
        "#    - Print first 4 characters---Given string[0:5]\n",
        "#    - Print last 5 characters----Given string[10:14]/Given string[-1:-5]\n",
        "#    - Print string reversed\n",
        "#    - Check if substring \"Engine\" exists\n"
      ],
      "metadata": {
        "id": "qBUZQ9n6PuBN"
      }
    },
    {
      "cell_type": "code",
      "source": [
        "Given_string = \"DataEngineering\"\n",
        "Given_string[0:4]"
      ],
      "metadata": {
        "colab": {
          "base_uri": "https://localhost:8080/",
          "height": 36
        },
        "id": "ZOUD1yN6Q2S1",
        "outputId": "22815835-114d-45ec-b040-78f4e1994c73"
      },
      "execution_count": null,
      "outputs": [
        {
          "output_type": "execute_result",
          "data": {
            "text/plain": [
              "'Data'"
            ],
            "application/vnd.google.colaboratory.intrinsic+json": {
              "type": "string"
            }
          },
          "metadata": {},
          "execution_count": 7
        }
      ]
    },
    {
      "cell_type": "code",
      "source": [
        "Given_string[10:15]"
      ],
      "metadata": {
        "colab": {
          "base_uri": "https://localhost:8080/",
          "height": 36
        },
        "id": "ieVd6iC9RBW6",
        "outputId": "821cf433-ce5d-4f96-e8cc-c85bf21a9caa"
      },
      "execution_count": null,
      "outputs": [
        {
          "output_type": "execute_result",
          "data": {
            "text/plain": [
              "'ering'"
            ],
            "application/vnd.google.colaboratory.intrinsic+json": {
              "type": "string"
            }
          },
          "metadata": {},
          "execution_count": 11
        }
      ]
    },
    {
      "cell_type": "code",
      "source": [
        "Given_string[-5:]"
      ],
      "metadata": {
        "colab": {
          "base_uri": "https://localhost:8080/",
          "height": 36
        },
        "id": "aH_7Z5wzRxqq",
        "outputId": "b6808782-d448-46ea-f57e-9740ad076428"
      },
      "execution_count": null,
      "outputs": [
        {
          "output_type": "execute_result",
          "data": {
            "text/plain": [
              "'ering'"
            ],
            "application/vnd.google.colaboratory.intrinsic+json": {
              "type": "string"
            }
          },
          "metadata": {},
          "execution_count": 19
        }
      ]
    },
    {
      "cell_type": "code",
      "source": [
        "Given_string[-1::]"
      ],
      "metadata": {
        "colab": {
          "base_uri": "https://localhost:8080/",
          "height": 36
        },
        "id": "jzOAUh_gRZc2",
        "outputId": "a08f038a-c907-4268-a614-bf1548925952"
      },
      "execution_count": null,
      "outputs": [
        {
          "output_type": "execute_result",
          "data": {
            "text/plain": [
              "'g'"
            ],
            "application/vnd.google.colaboratory.intrinsic+json": {
              "type": "string"
            }
          },
          "metadata": {},
          "execution_count": 12
        }
      ]
    },
    {
      "cell_type": "markdown",
      "source": [
        "# =================================\n",
        "# Part 4: Strings and Manipulation (Part 2)\n",
        "# =================================\n",
        "# Lecture:\n",
        "# - String functions: upper(), lower(), strip(), replace(), split(), join()\n",
        "# - Searching: find(), index()\n",
        "# - Validation: isdigit(), isalpha(), isalnum()\n"
      ],
      "metadata": {
        "id": "RD_XHD-XPwmT"
      }
    },
    {
      "cell_type": "code",
      "source": [
        "# Example: String Functions\n",
        "msg = \"  Python is FUN!  \"\n",
        "print(\"Uppercase:\", msg.upper())\n",
        "print(\"Lowercase:\", msg.lower())\n",
        "print(\"Stripped:\", msg.strip())\n",
        "print(\"Replace:\", msg.replace(\"FUN\", \"POWERFUL\"))\n",
        "print(\"Split:\", msg.split())\n",
        "print(\"Join:\", \"-\".join([\"Data\", \"Science\"]))\n"
      ],
      "metadata": {
        "colab": {
          "base_uri": "https://localhost:8080/"
        },
        "id": "8vxD4cVEPyts",
        "outputId": "62d623d0-271e-4630-9d9b-c08e27367af5"
      },
      "execution_count": null,
      "outputs": [
        {
          "output_type": "stream",
          "name": "stdout",
          "text": [
            "Uppercase:   PYTHON IS FUN!  \n",
            "Lowercase:   python is fun!  \n",
            "Stripped: Python is FUN!\n",
            "Replace:   Python is POWERFUL!  \n",
            "Split: ['Python', 'is', 'FUN!']\n",
            "Join: Data-Science\n"
          ]
        }
      ]
    },
    {
      "cell_type": "code",
      "source": [
        "# Example: String Validation\n",
        "num = \"12345\"\n",
        "word = \"Python\"\n",
        "print(\"Is Digit:\", num.isdigit())\n",
        "print(\"Is Alpha:\", word.isalpha())\n",
        "print(\"Is Alnum:\", word.isalnum())\n"
      ],
      "metadata": {
        "colab": {
          "base_uri": "https://localhost:8080/"
        },
        "id": "-Q7MZZlDPupF",
        "outputId": "22a579cb-a496-4aef-8fc7-336781393fd8"
      },
      "execution_count": null,
      "outputs": [
        {
          "output_type": "stream",
          "name": "stdout",
          "text": [
            "Is Digit: True\n",
            "Is Alpha: True\n",
            "Is Alnum: True\n"
          ]
        }
      ]
    },
    {
      "cell_type": "markdown",
      "source": [
        "# -------------------------------\n",
        "# Hands-On Exercise 4 (Strings Part 2)\n",
        "# -------------------------------\n",
        "# Q: Given string = \"   Machine Learning with Python   \"\n",
        "#    - Remove extra spaces\n",
        "#    - Convert to uppercase\n",
        "#    - Replace \"Python\" with \"AI\"\n",
        "#    - Split words into list\n",
        "#    - Check if all characters are alphabets\n"
      ],
      "metadata": {
        "id": "308crhL2P28z"
      }
    },
    {
      "cell_type": "code",
      "source": [
        "# Given string\n",
        "#s = \" Machine Learning with Python \"\n",
        "s=90\n",
        "# 1. Remove extra spaces\n",
        "s = s.strip()\n",
        "\n",
        "# 2. Convert to uppercase\n",
        "s = s.upper()\n",
        "\n",
        "# 3. Replace \"Python\" with \"AI\"\n",
        "s = s.replace(\"PYTHON\", \"AI\")\n",
        "\n",
        "# 4. Split words into list\n",
        "words_list = s.split()\n",
        "\n",
        "# 5. Check if all characters are alphabets\n",
        "all_alpha = s.replace(\" \", \"\").isalpha()\n",
        "\n",
        "# Output\n",
        "print(\"Processed String:\", s)\n",
        "print(\"Words List:\", words_list)\n",
        "print(\"All Characters Alphabets?:\", all_alpha)\n"
      ],
      "metadata": {
        "colab": {
          "base_uri": "https://localhost:8080/"
        },
        "id": "SvJI_iTNSdhz",
        "outputId": "9e693c1f-2a53-42f4-8e7a-70d092fb8690"
      },
      "execution_count": null,
      "outputs": [
        {
          "output_type": "stream",
          "name": "stdout",
          "text": [
            "Processed String: MACHINE LEARNING WITH AI\n",
            "Words List: ['MACHINE', 'LEARNING', 'WITH', 'AI']\n",
            "All Characters Alphabets?: True\n"
          ]
        }
      ]
    },
    {
      "cell_type": "code",
      "source": [
        "# Given string\n",
        "s = \" Machine Learning with Python \"\n",
        "\n",
        "# 1. Remove extra spaces\n",
        "s = s.reverse()\n",
        "s"
      ],
      "metadata": {
        "colab": {
          "base_uri": "https://localhost:8080/",
          "height": 36
        },
        "id": "MOTqfDxmUXKW",
        "outputId": "5535f71d-74a9-4c7d-f677-70a3c6429698"
      },
      "execution_count": null,
      "outputs": [
        {
          "output_type": "execute_result",
          "data": {
            "text/plain": [
              "'Machine Learning with Python'"
            ],
            "application/vnd.google.colaboratory.intrinsic+json": {
              "type": "string"
            }
          },
          "metadata": {},
          "execution_count": 21
        }
      ]
    },
    {
      "cell_type": "code",
      "source": [],
      "metadata": {
        "id": "pHVv-2PwP352"
      },
      "execution_count": null,
      "outputs": []
    },
    {
      "cell_type": "markdown",
      "source": [
        "# =================================\n",
        "# Stretch Activities / Puzzles\n",
        "# =================================\n",
        "# 1. Remove duplicates from a string using sets\n",
        "# 2. Count word frequency in a sentence using a dictionary\n",
        "# 3. Check if two strings are anagrams\n",
        "# 4. Find intersection of two lists using sets\n",
        "# 5. Create a nested dictionary of students with marks in 3 subjects\n"
      ],
      "metadata": {
        "id": "e_fwnBVsP6U8"
      }
    },
    {
      "cell_type": "code",
      "source": [
        "# =================================\n",
        "# 1. Remove duplicates from a string using sets\n",
        "# =================================\n",
        "s = \"programming\"\n",
        "result = \"\".join(set(s))  # order not preserved\n",
        "print(\"Without duplicates:\", result)\n",
        "\n",
        "# =================================\n",
        "# 2. Count word frequency in a sentence using a dictionary\n",
        "# =================================\n",
        "sentence = \"machine learning with python and machine learning\"\n",
        "words = sentence.split()\n",
        "word_freq = {}\n",
        "for word in words:\n",
        "    word_freq[word] = word_freq.get(word, 0) + 1\n",
        "print(\"Word Frequency:\", word_freq)\n",
        "\n",
        "# =================================\n",
        "# 3. Check if two strings are anagrams\n",
        "# =================================\n",
        "str1 = \"listen\"\n",
        "str2 = \"silent\"\n",
        "if sorted(str1) == sorted(str2):\n",
        "    print(\"Anagram: Yes\")\n",
        "else:\n",
        "    print(\"Anagram: No\")\n",
        "\n",
        "# =================================\n",
        "# 4. Find intersection of two lists using sets\n",
        "# =================================\n",
        "list1 = [1, 2, 3, 4, 5]\n",
        "list2 = [4, 5, 6, 7]\n",
        "intersection = list(set(list1) & set(list2))\n",
        "print(\"Intersection:\", intersection)\n",
        "\n",
        "# =================================\n",
        "# 5. Create a nested dictionary of students with marks in 3 subjects\n",
        "# =================================\n",
        "students = {\n",
        "    \"Alice\": {\"Math\": 85, \"Science\": 90, \"English\": 88},\n",
        "    \"Bob\": {\"Math\": 78, \"Science\": 82, \"English\": 80},\n",
        "    \"Charlie\": {\"Math\": 92, \"Science\": 88, \"English\": 91}\n",
        "}\n",
        "print(\"Students Data:\", students)\n"
      ],
      "metadata": {
        "colab": {
          "base_uri": "https://localhost:8080/"
        },
        "id": "vwHVAxXLS5rx",
        "outputId": "67307256-999d-4c1a-b7e4-833b74f7448f"
      },
      "execution_count": null,
      "outputs": [
        {
          "output_type": "stream",
          "name": "stdout",
          "text": [
            "Without duplicates: minproag\n",
            "Word Frequency: {'machine': 2, 'learning': 2, 'with': 1, 'python': 1, 'and': 1}\n",
            "Anagram: Yes\n",
            "Intersection: [4, 5]\n",
            "Students Data: {'Alice': {'Math': 85, 'Science': 90, 'English': 88}, 'Bob': {'Math': 78, 'Science': 82, 'English': 80}, 'Charlie': {'Math': 92, 'Science': 88, 'English': 91}}\n"
          ]
        }
      ]
    },
    {
      "cell_type": "code",
      "source": [
        "# =================================\n",
        "# 1. Remove duplicates from a string using sets\n",
        "# =================================\n",
        "s = input(\"Enter a string: \")\n",
        "result = \"\".join(set(s))   # order not preserved\n",
        "print(\"Without duplicates:\", result)\n",
        "\n",
        "# Hands-On:\n",
        "# Try with input: \"programming\", \"hello\", \"banana\"\n",
        "# Extension: Modify code to PRESERVE the order of characters.\n",
        "\n",
        "\n",
        "# =================================\n",
        "# 2. Count word frequency in a sentence using a dictionary\n",
        "# =================================\n",
        "sentence = input(\"Enter a sentence: \")\n",
        "words = sentence.split()\n",
        "word_freq = {}\n",
        "for word in words:\n",
        "    word_freq[word] = word_freq.get(word, 0) + 1\n",
        "print(\"Word Frequency:\", word_freq)\n",
        "\n",
        "# Hands-On:\n",
        "# Try with input: \"machine learning with python and machine learning\"\n",
        "# Extension: Ignore case (make all words lowercase before counting).\n",
        "\n",
        "\n",
        "# =================================\n",
        "# 3. Check if two strings are anagrams\n",
        "# =================================\n",
        "str1 = input(\"Enter first string: \")\n",
        "str2 = input(\"Enter second string: \")\n",
        "if sorted(str1) == sorted(str2):\n",
        "    print(\"Anagram: Yes\")\n",
        "else:\n",
        "    print(\"Anagram: No\")\n",
        "\n",
        "# Hands-On:\n",
        "# Try with: \"listen\", \"silent\" → Yes\n",
        "# Try with: \"python\", \"java\" → No\n",
        "\n",
        "\n",
        "# =================================\n",
        "# 4. Find intersection of two lists using sets\n",
        "# =================================\n",
        "list1 = [int(x) for x in input(\"Enter list1 (space-separated): \").split()]\n",
        "list2 = [int(x) for x in input(\"Enter list2 (space-separated): \").split()]\n",
        "intersection = list(set(list1) & set(list2))\n",
        "print(\"Intersection:\", intersection)\n",
        "\n",
        "# Hands-On:\n",
        "# Try with: list1 = [1, 2, 3, 4, 5], list2 = [4, 5, 6, 7]\n",
        "# Extension: Find UNION as well.\n",
        "\n",
        "\n",
        "# =================================\n",
        "# 5. Create a nested dictionary of students with marks in 3 subjects\n",
        "# =================================\n",
        "students = {}\n",
        "n = int(input(\"Enter number of students: \"))\n",
        "for i in range(n):\n",
        "    name = input(f\"Enter name of student {i+1}: \")\n",
        "    math = int(input(\"Enter Math marks: \"))\n",
        "    sci = int(input(\"Enter Science marks: \"))\n",
        "    eng = int(input(\"Enter English marks: \"))\n",
        "    students[name] = {\"Math\": math, \"Science\": sci, \"English\": eng}\n",
        "\n",
        "print(\"Students Data:\", students)\n",
        "\n",
        "# Hands-On:\n",
        "# Enter 2-3 students and check the nested dictionary.\n",
        "# Extension: Calculate total marks of each student.\n"
      ],
      "metadata": {
        "colab": {
          "base_uri": "https://localhost:8080/",
          "height": 360
        },
        "id": "98PHAH0NTGRn",
        "outputId": "ac2cb9af-18c1-4ba9-e0e1-56dd8a2d2546"
      },
      "execution_count": null,
      "outputs": [
        {
          "name": "stdout",
          "output_type": "stream",
          "text": [
            "Enter a string: R\n",
            "Without duplicates: R\n",
            "Enter a sentence: ragigudda rajajinagar\n",
            "Word Frequency: {'ragigudda': 1, 'rajajinagar': 1}\n",
            "Enter first string: cgcgi itc tcs\n",
            "Enter second string: wipro hilllo bello\n",
            "Anagram: No\n",
            "Enter list1 (space-separated): 56,98,78,90\n"
          ]
        },
        {
          "output_type": "error",
          "ename": "ValueError",
          "evalue": "invalid literal for int() with base 10: '56,98,78,90'",
          "traceback": [
            "\u001b[0;31m---------------------------------------------------------------------------\u001b[0m",
            "\u001b[0;31mValueError\u001b[0m                                Traceback (most recent call last)",
            "\u001b[0;32m/tmp/ipython-input-2120437267.py\u001b[0m in \u001b[0;36m<cell line: 0>\u001b[0;34m()\u001b[0m\n\u001b[1;32m     44\u001b[0m \u001b[0;31m# 4. Find intersection of two lists using sets\u001b[0m\u001b[0;34m\u001b[0m\u001b[0;34m\u001b[0m\u001b[0m\n\u001b[1;32m     45\u001b[0m \u001b[0;31m# =================================\u001b[0m\u001b[0;34m\u001b[0m\u001b[0;34m\u001b[0m\u001b[0m\n\u001b[0;32m---> 46\u001b[0;31m \u001b[0mlist1\u001b[0m \u001b[0;34m=\u001b[0m \u001b[0;34m[\u001b[0m\u001b[0mint\u001b[0m\u001b[0;34m(\u001b[0m\u001b[0mx\u001b[0m\u001b[0;34m)\u001b[0m \u001b[0;32mfor\u001b[0m \u001b[0mx\u001b[0m \u001b[0;32min\u001b[0m \u001b[0minput\u001b[0m\u001b[0;34m(\u001b[0m\u001b[0;34m\"Enter list1 (space-separated): \"\u001b[0m\u001b[0;34m)\u001b[0m\u001b[0;34m.\u001b[0m\u001b[0msplit\u001b[0m\u001b[0;34m(\u001b[0m\u001b[0;34m)\u001b[0m\u001b[0;34m]\u001b[0m\u001b[0;34m\u001b[0m\u001b[0;34m\u001b[0m\u001b[0m\n\u001b[0m\u001b[1;32m     47\u001b[0m \u001b[0mlist2\u001b[0m \u001b[0;34m=\u001b[0m \u001b[0;34m[\u001b[0m\u001b[0mint\u001b[0m\u001b[0;34m(\u001b[0m\u001b[0mx\u001b[0m\u001b[0;34m)\u001b[0m \u001b[0;32mfor\u001b[0m \u001b[0mx\u001b[0m \u001b[0;32min\u001b[0m \u001b[0minput\u001b[0m\u001b[0;34m(\u001b[0m\u001b[0;34m\"Enter list2 (space-separated): \"\u001b[0m\u001b[0;34m)\u001b[0m\u001b[0;34m.\u001b[0m\u001b[0msplit\u001b[0m\u001b[0;34m(\u001b[0m\u001b[0;34m)\u001b[0m\u001b[0;34m]\u001b[0m\u001b[0;34m\u001b[0m\u001b[0;34m\u001b[0m\u001b[0m\n\u001b[1;32m     48\u001b[0m \u001b[0mintersection\u001b[0m \u001b[0;34m=\u001b[0m \u001b[0mlist\u001b[0m\u001b[0;34m(\u001b[0m\u001b[0mset\u001b[0m\u001b[0;34m(\u001b[0m\u001b[0mlist1\u001b[0m\u001b[0;34m)\u001b[0m \u001b[0;34m&\u001b[0m \u001b[0mset\u001b[0m\u001b[0;34m(\u001b[0m\u001b[0mlist2\u001b[0m\u001b[0;34m)\u001b[0m\u001b[0;34m)\u001b[0m\u001b[0;34m\u001b[0m\u001b[0;34m\u001b[0m\u001b[0m\n",
            "\u001b[0;31mValueError\u001b[0m: invalid literal for int() with base 10: '56,98,78,90'"
          ]
        }
      ]
    },
    {
      "cell_type": "code",
      "source": [
        "# 1. Remove duplicates from a string using sets\n",
        "# =================================\n",
        "s = input(\"Enter a string: \")\n",
        "result = \"\".join(set(s))   # order not preserved\n",
        "print(\"Without duplicates:\", result)"
      ],
      "metadata": {
        "id": "MD9bLHVWP7L3",
        "colab": {
          "base_uri": "https://localhost:8080/"
        },
        "outputId": "72c3d71c-facf-4a46-da5f-8ca230bca09a"
      },
      "execution_count": null,
      "outputs": [
        {
          "output_type": "stream",
          "name": "stdout",
          "text": [
            "Enter a string: robinson\n",
            "Without duplicates: norsib\n"
          ]
        }
      ]
    },
    {
      "cell_type": "code",
      "source": [
        "#conditinal statements\n",
        "if,if-else,if-elif-else"
      ],
      "metadata": {
        "id": "mtg5_gwXaz7P"
      },
      "execution_count": null,
      "outputs": []
    },
    {
      "cell_type": "code",
      "source": [
        "age=18\n",
        "if age >= 18:\n",
        "  print(\"you are adult\")\n",
        "else:\n",
        "  print(\"child\")"
      ],
      "metadata": {
        "colab": {
          "base_uri": "https://localhost:8080/"
        },
        "id": "VFQHssb4bHcG",
        "outputId": "b3a2b8c2-52f2-438c-9e05-ac1f61530e8d"
      },
      "execution_count": null,
      "outputs": [
        {
          "output_type": "stream",
          "name": "stdout",
          "text": [
            "you are adult\n"
          ]
        }
      ]
    },
    {
      "cell_type": "code",
      "source": [
        "#nested if\n",
        "num=16#static input\n",
        "if num>0:\n",
        "  if num % 2 == 0:\n",
        "    print(\"positive even number\")\n",
        "\n"
      ],
      "metadata": {
        "colab": {
          "base_uri": "https://localhost:8080/"
        },
        "id": "fWMz2ozqbZk7",
        "outputId": "ba7b3c0b-bd64-41a0-e10c-9738cd618a47"
      },
      "execution_count": null,
      "outputs": [
        {
          "output_type": "stream",
          "name": "stdout",
          "text": [
            "positive even number\n"
          ]
        }
      ]
    },
    {
      "cell_type": "code",
      "source": [
        "num=int(input(\"enter the number: \"))#dynamic input\n",
        "if num>0:\n",
        "  if num % 2 == 0:\n",
        "    print(\"positive even number\")\n",
        "  else:\n",
        "    print(\"other number\")"
      ],
      "metadata": {
        "colab": {
          "base_uri": "https://localhost:8080/"
        },
        "id": "DbF2WOoWcU2-",
        "outputId": "4854e5dc-90f3-4390-c512-f1592baaff23"
      },
      "execution_count": null,
      "outputs": [
        {
          "output_type": "stream",
          "name": "stdout",
          "text": [
            "enter the number: 79\n",
            "other number\n"
          ]
        }
      ]
    },
    {
      "cell_type": "code",
      "source": [
        "num=int(input(\"enter the number: \"))\n",
        "if num >0:\n",
        "  if num % 2 ==0:\n",
        "    print(\"positive even number\")\n",
        "  else:\n",
        "    print(\"positive odd number\")\n",
        "elif num<0:\n",
        "  print(\"negative number\")\n",
        "else:\n",
        "  print(\"Zero\")"
      ],
      "metadata": {
        "colab": {
          "base_uri": "https://localhost:8080/"
        },
        "id": "yuDt92zpdc8e",
        "outputId": "819d616f-7f15-4012-e6b7-d7038d90a94d"
      },
      "execution_count": null,
      "outputs": [
        {
          "output_type": "stream",
          "name": "stdout",
          "text": [
            "enter the number: 0\n",
            "Zero\n"
          ]
        }
      ]
    },
    {
      "cell_type": "code",
      "source": [
        "#loops\n",
        "#iterate over sequence---[12,6,8,7,5,4,0]\n",
        "for loop and while loop\n",
        "for variable in sequence:"
      ],
      "metadata": {
        "id": "zjgghHiVe3WV"
      },
      "execution_count": null,
      "outputs": []
    },
    {
      "cell_type": "code",
      "source": [
        "#while loop is condition based"
      ],
      "metadata": {
        "id": "Duli9k8cfbwX"
      },
      "execution_count": null,
      "outputs": []
    },
    {
      "cell_type": "code",
      "source": [
        "players=[\"nadal\",\"fedrer\",\"sinner\"]\n",
        "for each in players:\n",
        "  print(players)"
      ],
      "metadata": {
        "colab": {
          "base_uri": "https://localhost:8080/"
        },
        "id": "bkicCsGOgESe",
        "outputId": "b2555759-4831-4367-f946-af7dc1430348"
      },
      "execution_count": null,
      "outputs": [
        {
          "output_type": "stream",
          "name": "stdout",
          "text": [
            "['nadal', 'fedrer', 'sinner']\n",
            "['nadal', 'fedrer', 'sinner']\n",
            "['nadal', 'fedrer', 'sinner']\n"
          ]
        }
      ]
    },
    {
      "cell_type": "code",
      "source": [
        "for each in range(5):\n",
        "  print(each)"
      ],
      "metadata": {
        "colab": {
          "base_uri": "https://localhost:8080/"
        },
        "id": "vb_lhDEWgguB",
        "outputId": "9a2e362d-6718-4df9-949e-0ce2d6963f6a"
      },
      "execution_count": null,
      "outputs": [
        {
          "output_type": "stream",
          "name": "stdout",
          "text": [
            "0\n",
            "1\n",
            "2\n",
            "3\n",
            "4\n"
          ]
        }
      ]
    },
    {
      "cell_type": "code",
      "source": [
        "range(5)"
      ],
      "metadata": {
        "colab": {
          "base_uri": "https://localhost:8080/"
        },
        "id": "UaxTqYvLgnLm",
        "outputId": "0c066161-4946-41c2-8d62-bb0643db8040"
      },
      "execution_count": null,
      "outputs": [
        {
          "output_type": "execute_result",
          "data": {
            "text/plain": [
              "range(0, 5)"
            ]
          },
          "metadata": {},
          "execution_count": 57
        }
      ]
    },
    {
      "cell_type": "code",
      "source": [
        "#check if number are odd or even\n",
        "for num in range(1,5):\n",
        "  if num % 2==0:\n",
        "    print(f\"{num} is even\")\n",
        "  else:\n",
        "    print(f\"{num} is odd\")"
      ],
      "metadata": {
        "colab": {
          "base_uri": "https://localhost:8080/"
        },
        "id": "SU5fwPLog0W3",
        "outputId": "9f8b9c3c-e921-4cf0-a89f-096c60411bae"
      },
      "execution_count": null,
      "outputs": [
        {
          "output_type": "stream",
          "name": "stdout",
          "text": [
            "1 is odd\n",
            "2 is even\n",
            "3 is odd\n",
            "4 is even\n"
          ]
        }
      ]
    },
    {
      "cell_type": "code",
      "source": [
        "x=[60,78,6,8,9,4,5]\n",
        "# num=int(input(\"enter the number: \"))\n",
        "for num in x:\n",
        "  if num % 2==0:\n",
        "    print(f\"{num} is even\")\n",
        "  else:\n",
        "    print(f\"{num} is odd\")\n",
        "\n"
      ],
      "metadata": {
        "colab": {
          "base_uri": "https://localhost:8080/"
        },
        "id": "ZLfqnz4xhpRY",
        "outputId": "6c9c2ef1-2a1b-4d24-e21a-05a95a1ab99d"
      },
      "execution_count": null,
      "outputs": [
        {
          "output_type": "stream",
          "name": "stdout",
          "text": [
            "enter the number: 0\n",
            "60 is even\n",
            "78 is even\n",
            "6 is even\n",
            "8 is even\n",
            "9 is odd\n",
            "4 is even\n",
            "5 is odd\n"
          ]
        }
      ]
    },
    {
      "cell_type": "code",
      "source": [
        "x=[60,-78,6,-8,9,4,5]\n",
        "for each in x:\n",
        "  if each >0:\n",
        "    print(f\"{each} is positive\")\n",
        "    #print(\"the number is positive\")"
      ],
      "metadata": {
        "colab": {
          "base_uri": "https://localhost:8080/"
        },
        "id": "osQhgJWciAGD",
        "outputId": "345fa565-c673-4a45-c939-c0227d6cf023"
      },
      "execution_count": null,
      "outputs": [
        {
          "output_type": "stream",
          "name": "stdout",
          "text": [
            "60 is positive\n",
            "6 is positive\n",
            "9 is positive\n",
            "4 is positive\n",
            "5 is positive\n"
          ]
        }
      ]
    },
    {
      "cell_type": "code",
      "source": [],
      "metadata": {
        "id": "LM5ElyABkR_B"
      },
      "execution_count": null,
      "outputs": []
    },
    {
      "cell_type": "code",
      "source": [
        "#while loop\n",
        "i=1\n",
        "while i<=10:\n",
        "  print(i)\n",
        "  i=i+1"
      ],
      "metadata": {
        "colab": {
          "base_uri": "https://localhost:8080/"
        },
        "id": "HOvNd5rzjQD_",
        "outputId": "8eba96f3-5e12-4afd-8bec-fb3c6209aab6"
      },
      "execution_count": null,
      "outputs": [
        {
          "output_type": "stream",
          "name": "stdout",
          "text": [
            "1\n",
            "2\n",
            "3\n",
            "4\n",
            "5\n",
            "6\n",
            "7\n",
            "8\n",
            "9\n",
            "10\n"
          ]
        }
      ]
    }
  ]
}